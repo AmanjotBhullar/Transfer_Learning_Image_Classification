{
 "cells": [
  {
   "cell_type": "markdown",
   "metadata": {},
   "source": [
    "### Download Pre-Trained Version of Inception-v3 for Transfer Learning"
   ]
  },
  {
   "cell_type": "code",
   "execution_count": null,
   "metadata": {},
   "outputs": [],
   "source": [
    "! python classify.py"
   ]
  },
  {
   "cell_type": "markdown",
   "metadata": {},
   "source": [
    "### Commands that can be used for retrain.py"
   ]
  },
  {
   "cell_type": "code",
   "execution_count": null,
   "metadata": {},
   "outputs": [],
   "source": [
    "! python retrain.py -h"
   ]
  },
  {
   "cell_type": "markdown",
   "metadata": {},
   "source": [
    "### Train 9 classifiers for each magnification\n",
    "36 classifiers in total"
   ]
  },
  {
   "cell_type": "code",
   "execution_count": null,
   "metadata": {},
   "outputs": [],
   "source": [
    "zooms = [40, 100, 200, 400]\n",
    "test_percentages = [10, 20, 30, 40, 50, 60, 70, 80, 85]\n",
    "\n",
    "for zoom in zooms:\n",
    "    for test_percentage in test_percentages:\n",
    "        ! python retrain.py --summaries_dir=tf_files/{zoom}_{test_percentage} --output_graph=tf_files/breast{zoom}_graph_{test_percentage}.pb --output_labels=tf_files/breast{zoom}_labels_{test_percentage}.txt --testing_percentage={test_percentage} --image_dir=tf_files/breast_{zoom}\n",
    "    \n",
    "    \n",
    "    "
   ]
  },
  {
   "cell_type": "markdown",
   "metadata": {},
   "source": [
    "### Check training progress"
   ]
  },
  {
   "cell_type": "code",
   "execution_count": null,
   "metadata": {},
   "outputs": [],
   "source": [
    "# Replace tf_files/40_10 with the path to your summaries_sir\n",
    "! tensorboard --logdir tf_files/40_10"
   ]
  }
 ],
 "metadata": {
  "kernelspec": {
   "display_name": "Python 3",
   "language": "python",
   "name": "python3"
  },
  "language_info": {
   "codemirror_mode": {
    "name": "ipython",
    "version": 3
   },
   "file_extension": ".py",
   "mimetype": "text/x-python",
   "name": "python",
   "nbconvert_exporter": "python",
   "pygments_lexer": "ipython3",
   "version": "3.6.5"
  }
 },
 "nbformat": 4,
 "nbformat_minor": 2
}
